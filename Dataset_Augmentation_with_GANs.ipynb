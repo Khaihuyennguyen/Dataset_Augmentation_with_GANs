{
  "nbformat": 4,
  "nbformat_minor": 0,
  "metadata": {
    "colab": {
      "provenance": []
    },
    "kernelspec": {
      "name": "python3",
      "display_name": "Python 3"
    },
    "language_info": {
      "name": "python"
    }
  },
  "cells": [
    {
      "cell_type": "markdown",
      "source": [
        "Author: Khai Nguyen\n",
        "\n",
        "Project:\n",
        "In this project, I will use the PyTorch library to create and train a Generative Adversarial Network (GAN). I'll implement the model from scratch, following these steps; create a dataset, define the generator and discriminator neural networks, define their update rules, and finally implement the training function.\n",
        "\n"
      ],
      "metadata": {
        "id": "oMO4jr9nOj2v"
      }
    },
    {
      "cell_type": "markdown",
      "source": [
        "Introduction\n",
        "\n",
        "Project Description\n",
        "Generative Adversarial Networks (GANs) are deep neural networks trained to generate data distributions that are not identifiable as being synthetic. Two neural networks are trained in parallel to accomplish this–the generator and the discriminator. The discriminator's job is to identify a sample as either real or synthetic. The generator's job is to generate samples that fool the discriminator into classifying them as real.\n",
        "\n",
        "Let's say we wanted to create a classification model on a dataset with a high class imbalance. When we trained the model, we got an excellent accuracy score, but when we made a confusion matrix, we saw that the model only predicted one class. Oversampling and undersampling are two solutions to the class imbalance problem. The former includes the minority class samples multiple times, which gives duplicate samples in the dataset. The latter drops a chunk of the majority class samples, which results in the loss of valuable data samples. To resolve these problems, we can use GANs to generate synthetic data for the minority class. This will ensure that there are no duplicate samples and that the classes are equally represented in the dataset. Any model trained on this data will, therefore, learn to predict both classes.\n",
        "\n",
        "We'll create a GAN from scratch for dataset augmentation in this project. We'll use PyTorch for machine learning and Matplotlib for visualizations. Automatic differentiation will be used to train the deep learning models. The generator will be trained so that its generated distribution closely matches the actual distribution of the data."
      ],
      "metadata": {
        "id": "MThCpa24TrlY"
      }
    },
    {
      "cell_type": "markdown",
      "source": [
        "# Importing the library"
      ],
      "metadata": {
        "id": "wIAL9PXiPDp_"
      }
    },
    {
      "cell_type": "code",
      "source": [
        "import time\n",
        "import torch\n",
        "from torch import nn # create discriminator and generartor with nn\n",
        "import matplotlib.pyplot as plt\n",
        "from matplotlib import rcParams # set the size of the visualization\n",
        "from IPython import display\n",
        "\n",
        "%matplotlib inline"
      ],
      "metadata": {
        "id": "PnPJr0gTRtSn"
      },
      "execution_count": 1,
      "outputs": []
    },
    {
      "cell_type": "markdown",
      "source": [
        "Create the dataset, visualize it, and define a dataset iterator that will be used to generate sample batches for model training.\n",
        "\n",
        "Generate a dataset that approximates a linear relationship between the two variables. Use matrix multiplications to create the dataset using the following formula:\n",
        "\n",
        "Y = XA + b\n",
        "\n",
        "\n"
      ],
      "metadata": {
        "id": "gLGLYvJzP55Y"
      }
    },
    {
      "cell_type": "code",
      "source": [
        "X = torch.normal(0.0, 1, (1000, 2))\n",
        "A = torch.tensor([[1, 2], [-0.1, 0.5]])\n",
        "b = torch.tensor([1, 2])\n",
        "data = torch.matmul(X, A) + b"
      ],
      "metadata": {
        "id": "Ad2di8hnPhoJ"
      },
      "execution_count": 2,
      "outputs": []
    },
    {
      "cell_type": "code",
      "source": [
        "print(len(data))"
      ],
      "metadata": {
        "colab": {
          "base_uri": "https://localhost:8080/"
        },
        "id": "I_on4sZpkpTw",
        "outputId": "1a47e291-51ae-4cc3-ab75-dee057f79faf"
      },
      "execution_count": 3,
      "outputs": [
        {
          "output_type": "stream",
          "name": "stdout",
          "text": [
            "1000\n"
          ]
        }
      ]
    },
    {
      "cell_type": "markdown",
      "source": [
        "\n",
        "\n",
        "1.   [What is torch normal](https://pytorch.org/docs/stable/generated/torch.normal.html)\n",
        "2.   [How detach() work in pytorch](https://www.geeksforgeeks.org/tensor-detach-method-in-python-pytorch/)\n",
        "\n"
      ],
      "metadata": {
        "id": "rCG2CkoqhM6z"
      }
    },
    {
      "cell_type": "markdown",
      "source": [
        "# Explore Data\n",
        "\n",
        "Create a scatterplot data"
      ],
      "metadata": {
        "id": "vkHbvUYriR7L"
      }
    },
    {
      "cell_type": "markdown",
      "source": [
        "\n",
        "\n",
        "1.   List item\n",
        "2.   List item\n",
        "\n"
      ],
      "metadata": {
        "id": "Dz6R9LgFjnyh"
      }
    },
    {
      "cell_type": "code",
      "source": [
        "plt.scatter(data[:,0], data[:, 1])"
      ],
      "metadata": {
        "colab": {
          "base_uri": "https://localhost:8080/",
          "height": 448
        },
        "id": "ZeiRT5-iqaLr",
        "outputId": "e9a5d807-124d-4739-d36c-3a4dbea2de91"
      },
      "execution_count": 4,
      "outputs": [
        {
          "output_type": "execute_result",
          "data": {
            "text/plain": [
              "<matplotlib.collections.PathCollection at 0x7cbc8f490af0>"
            ]
          },
          "metadata": {},
          "execution_count": 4
        },
        {
          "output_type": "display_data",
          "data": {
            "text/plain": [
              "<Figure size 640x480 with 1 Axes>"
            ],
            "image/png": "[encoded data removed]"
          },
          "metadata": {}
        }
      ]
    },
    {
      "cell_type": "markdown",
      "source": [
        "### Generate dataset iterator"
      ],
      "metadata": {
        "id": "LFqYxRPblyc0"
      }
    },
    {
      "cell_type": "code",
      "source": [
        "batch_size = 8\n",
        "dataset = torch.utils.data.TensorDataset(data)\n",
        "data_iter = torch.utils.data.DataLoader(dataset, batch_size, shuffle=True)"
      ],
      "metadata": {
        "id": "6eZrxl5HqbpN"
      },
      "execution_count": 5,
      "outputs": []
    },
    {
      "cell_type": "markdown",
      "source": [
        "# Build Model"
      ],
      "metadata": {
        "id": "UTfJm22xmTdt"
      }
    },
    {
      "cell_type": "markdown",
      "source": [
        "## Define Generators and Discriminators"
      ],
      "metadata": {
        "id": "q9fZXD6EmVn4"
      }
    },
    {
      "cell_type": "markdown",
      "source": [
        "Define the generator using the sequential() method from the torch.nn module. The model requires the following input:\n",
        "\n",
        "Module: The Linear() module requires as input the following parameters:\n",
        "\n",
        "in_features: The number of input features.\n",
        "\n",
        "out_features: The number of output features.\n"
      ],
      "metadata": {
        "id": "A9IM9ZYFmte0"
      }
    },
    {
      "cell_type": "code",
      "source": [
        "nnet_Gen = nn.Sequential(nn.Linear(2, 2))"
      ],
      "metadata": {
        "id": "vLqESd0vqinm"
      },
      "execution_count": 6,
      "outputs": []
    },
    {
      "cell_type": "markdown",
      "source": [
        "Define the discriminator using the sequential() method from the torch.nn module. The model requires the following input:\n",
        "\n",
        "Module:\n",
        "\n",
        "The Linear() module requires as input the following parameters:\n",
        "\n",
        "in_features: The number of input features.\n",
        "\n",
        "out_features: The number of output features.\n",
        "\n",
        "The tanh() module applies the element-wise hyperbolic tangent function on the outputs of the previous layer."
      ],
      "metadata": {
        "id": "Es-gvVQSm8jt"
      }
    },
    {
      "cell_type": "code",
      "source": [
        "nnet_Disc = nn.Sequential(\n",
        "  nn.Linear(2, 5), nn.Tanh(),\n",
        "  nn.Linear(5, 3), nn.Tanh(),\n",
        "  nn.Linear(3, 1))"
      ],
      "metadata": {
        "id": "tkZurjnjqnHc"
      },
      "execution_count": 7,
      "outputs": []
    },
    {
      "cell_type": "markdown",
      "source": [
        "## Define the function for discriminator updates"
      ],
      "metadata": {
        "id": "pBd5i49qnLOF"
      }
    },
    {
      "cell_type": "markdown",
      "source": [
        "\n",
        "\n",
        "1.   [Why we should do the detach](https://stackoverflow.com/questions/63582590/why-do-we-call-detach-before-calling-numpy-on-a-pytorch-tensor)\n",
        "2.   List item\n",
        "\n"
      ],
      "metadata": {
        "id": "ytTfkATWvaTJ"
      }
    },
    {
      "cell_type": "markdown",
      "source": [
        "Define the function for discriminator updates. The function takes the input:\n",
        "\n",
        "- x: This is the training batch\n",
        "- Z: These are the seed values for generating the fake batch\n",
        "- nnet_D: this is the discriminator nn\n",
        "- nnet_G: this is the generator nn\n",
        "- loss: This is the loss function\n",
        "- trainer_D: This is the optim\n",
        "\n",
        "\n",
        "Use the real and synthetic data to compute the loss. Compute the loss on the discriminator outputs for the real batch with a tensor of ones and zero for synthetic batch. Ones mean real, zeros mean fakes. The final loss is an average of the two. This is becuase the discriminator's job is to correctly classify the two distributions as seperate."
      ],
      "metadata": {
        "id": "HGgJwyDvorqG"
      }
    },
    {
      "cell_type": "code",
      "source": [
        "def update_D(X, Z, nnet_D, nnet_G, loss, trainer_D):\n",
        "    batch_size = X.shape[0]\n",
        "    ones = torch.ones((batch_size,), device=X.device)\n",
        "    zeros = torch.zeros((batch_size,), device=X.device)\n",
        "    trainer_D.zero_grad()\n",
        "    real_Y = nnet_D(X)\n",
        "    synth_X = nnet_G(Z)\n",
        "    synth_Y = nnet_D(synth_X.detach())\n",
        "    loss_D = (loss(real_Y, ones.reshape(real_Y.shape)) +\n",
        "              loss(synth_Y, zeros.reshape(synth_Y.shape))) / 2\n",
        "    loss_D.backward()\n",
        "    trainer_D.step()\n",
        "    return loss_D\n",
        "\n"
      ],
      "metadata": {
        "id": "hoNqVEB7qobH"
      },
      "execution_count": 8,
      "outputs": []
    },
    {
      "cell_type": "markdown",
      "source": [
        "## Perform Generator Updates\n",
        "\n",
        "Define the function for performing updates on the generator. Use the noise  given as input  to generate a synthetic batch and make predictions using the discriminator. Then comput the loss on these prediction with ones, computer the gradient and update."
      ],
      "metadata": {
        "id": "XVMLSKCyV9rr"
      }
    },
    {
      "cell_type": "code",
      "source": [
        "def update_G(Z, nnet_D, nnet_G, loss, trainer_G):\n",
        "    batch_size = Z.shape[0]\n",
        "    ones = torch.ones((batch_size,), device=Z.device)\n",
        "    trainer_G.zero_grad()\n",
        "    synth_X = nnet_G(Z)\n",
        "    synth_Y = nnet_D(synth_X)\n",
        "    loss_G = loss(synth_Y, ones.reshape(synth_Y.shape))\n",
        "    loss_G.backward()\n",
        "    trainer_G.step()\n",
        "    return loss_G\n"
      ],
      "metadata": {
        "id": "GuWi8oKBaS7g"
      },
      "execution_count": 9,
      "outputs": []
    },
    {
      "cell_type": "markdown",
      "source": [
        "# Initialize the parameters\n",
        "\n",
        "Define the method for initializing parameters for training. The function takes as input the following parameters:\n",
        "\n",
        "**Discriminator:** This is the discriminator neural network.\n",
        "\n",
        "**Generator:** This is the generator neural network.\n",
        "\n",
        "**lr_D**: This is the learning rate of the discriminator.\n",
        "\n",
        "**lr_G:** This is the learning rate of the generator.\n",
        "The function will make the following returns:\n",
        "\n",
        "**loss:** This is an instance of the loss function that we have chosen.\n",
        "\n",
        "**trainer_D:** This is the optimizer of the discriminator.\n",
        "\n",
        "**trainer_G:** This is the optimizer of the generator.\n",
        "\n",
        "**fig:** This is the figure for visualizations.\n",
        "\n",
        "**axes:** This is an array of axes on which we will plot the visualizations.\n",
        "\n",
        "**loss_D:** This array will save the loss generated in the discriminator over the current batch.\n",
        "\n",
        "**loss_G:** This array will save the loss generated in the generator over the current batch.\n",
        "\n",
        "\n",
        "\n",
        "\n",
        "\n"
      ],
      "metadata": {
        "id": "B-KRocI-zGYF"
      }
    },
    {
      "cell_type": "markdown",
      "source": [
        "The function will perform the following:\n",
        "\n",
        "Initialize loss as an instance of the BCEWithLogitsLoss() class. This loss applies a sigmoid layer to the outputs before applying the BCELoss() (Binary Cross Entropy Loss) and is numerically more stable than using the sigmoid and the BCELoss() separately.\n",
        "\n",
        "Use normal_() from torch.nn.init to initialize the parameters of the generator and the discriminator neural networks.\n",
        "\n",
        "Use model.parameters() to access the parameters of the respective model. The init() function requires as parameters the following:\n",
        "\n",
        "tensor: This is a tensor of the parameters you want to initialize.\n",
        "\n",
        "mean: This is the mean of the normal distribution you need to sample these parameters from.\n",
        "\n",
        "std: This is the standard deviation of the normal distribution you need to sample these parameters from.\n",
        "\n",
        "Initialize the optimizers/trainers of the two neural networks as objects of the Adam() class from torch.optim. Adam is an extended version of the stochastic gradient descent optimizer. This method accepts as input the following parameters:\n",
        "\n",
        "params: These are the model parameters that will be trained.\n",
        "\n",
        "lr: This is the learning rate of the optimizer.\n",
        "Configure matplotlib to show multiple plots in the figure using plt.subplots(). This function will take the following inputs:\n",
        "\n",
        "nrows: This is the number of rows in the figure.\n",
        "ncols: This is the number of columns in the figure.\n",
        "\n",
        "figsize: This is a tuple of the plot dimensions.\n",
        "Create two empty lists named loss_D and loss_G. These will store the losses of the two neural networks.\n"
      ],
      "metadata": {
        "id": "qCRHHHFXDUTT"
      }
    },
    {
      "cell_type": "markdown",
      "source": [
        "( [How to use Pytorch loss function](https://github.com/christianversloot/machine-learning-articles/blob/main/how-to-use-pytorch-loss-functions.md))"
      ],
      "metadata": {
        "id": "W_wNKMMbB80s"
      }
    },
    {
      "cell_type": "code",
      "source": [
        "\n",
        "\n",
        "def init_params(Discriminator, Generator, lr_D, lr_G):\n",
        "    loss = nn.BCEWithLogitsLoss(reduction='sum')\n",
        "    for w in Discriminator.parameters():\n",
        "        nn.init.normal_(w, 0, 0.02)\n",
        "    for w in Generator.parameters():\n",
        "        nn.init.normal_(w, 0, 0.02)\n",
        "    trainer_D = torch.optim.Adam(Discriminator.parameters(), lr=lr_D)\n",
        "    trainer_G = torch.optim.Adam(Generator.parameters(), lr=lr_G)\n",
        "    fig, axes = plt.subplots(2, 1, figsize=(5, 9))\n",
        "    loss_D = []\n",
        "    loss_G = []\n",
        "\n",
        "    return loss, trainer_D, trainer_G, fig, axes, loss_D, loss_G"
      ],
      "metadata": {
        "id": "_E7BQ4pGb7-Y"
      },
      "execution_count": 10,
      "outputs": []
    },
    {
      "cell_type": "markdown",
      "source": [
        "# Compute the loss\n",
        "\n",
        "This function will initialize a noise array, compute the loss, and aggregate them into an array\n",
        "\n",
        "The function require these parameters:\n",
        "\n",
        "- X: input batch\n",
        "- net_D, net_G, loss:\n",
        "- Trainer_D\n",
        "- Trainer_G\n",
        "- batch_size\n",
        "- latent_dim: the number of input features of the generator\n",
        "- data_iter: this is the dataset iterator I have created before\n",
        "\n",
        "The function will return the following:\n",
        "\n",
        "metrics: This array will save the loss generated in the discriminator and the generator along with the number of samples processed in the epoch."
      ],
      "metadata": {
        "id": "bLBCD4mNHx2H"
      }
    },
    {
      "cell_type": "code",
      "source": [
        "def compute_losses(X, net_D, net_G, loss, trainer_D, trainer_G, batch_size, latent_dim, data_iter):\n",
        "    metrics = [0.0]*3\n",
        "    for (X,) in data_iter:\n",
        "        batch_size = X.shape[0]\n",
        "        Z = torch.normal(0, 1, size=(batch_size, latent_dim))\n",
        "        metric = [update_D(X, Z, net_D, net_G, loss, trainer_D),\n",
        "                    update_G(Z, net_D, net_G, loss, trainer_G),\n",
        "                    batch_size]\n",
        "        metrics = [sum(i) for i in zip(metric, metrics)]\n",
        "\n",
        "    return metrics"
      ],
      "metadata": {
        "id": "DT5l7fI50Lag"
      },
      "execution_count": 11,
      "outputs": []
    },
    {
      "cell_type": "markdown",
      "source": [
        "### Display the data distribution generated by the generator at each epoch and losses\n"
      ],
      "metadata": {
        "id": "Ol4J49mfSn-i"
      }
    },
    {
      "cell_type": "code",
      "source": [
        "def display_gen_dist(net_G, axes, latent_dim, data):\n",
        "    Z = torch.normal(0, 1, size=(100, latent_dim))\n",
        "    synth_X = net_G(Z).detach().numpy()\n",
        "    axes[1].cla()\n",
        "    axes[1].scatter(data[:, 0], data[:, 1])\n",
        "    axes[1].scatter(synth_X[:, 0], synth_X[:, 1])\n",
        "    axes[1].legend(['real', 'generated'])"
      ],
      "metadata": {
        "id": "1lfdLZjk0tgx"
      },
      "execution_count": 12,
      "outputs": []
    },
    {
      "cell_type": "code",
      "source": [
        "def display_losses(metrics, loss_D, loss_G, axes, fig, epoch):\n",
        "    D = metrics[0]/metrics[2]\n",
        "    loss_D.append(D.detach())\n",
        "    G = metrics[1]/metrics[2]\n",
        "    loss_G.append(G.detach())\n",
        "    axes[0].plot(range(epoch+1), loss_D, c=\"blue\")\n",
        "    axes[0].plot(range(epoch+1), loss_G, c=\"green\")\n",
        "    axes[0].legend(['Discriminator loss', 'Generator loss'])\n",
        "    display.display(fig)\n",
        "    display.clear_output(wait=True)\n",
        "\n",
        "    return loss_D, loss_G"
      ],
      "metadata": {
        "id": "xUXqd3SO0wDB"
      },
      "execution_count": 13,
      "outputs": []
    },
    {
      "cell_type": "markdown",
      "source": [
        "### Training the model"
      ],
      "metadata": {
        "id": "QyvreE6uTPCl"
      }
    },
    {
      "cell_type": "code",
      "source": [
        "def train(net_D, net_G, data_iter, num_epochs, lr_D, lr_G, latent_dim, data):\n",
        "    # Start timer\n",
        "    tik = time.perf_counter()\n",
        "    # Init variables\n",
        "    loss, trainer_D, trainer_G, fig, axes, loss_D, loss_G = init_params(net_D, net_G, lr_D, lr_G)\n",
        "    for epoch in range(num_epochs):\n",
        "        # Train one epoch\n",
        "        metrics = compute_losses(X, net_D, net_G, loss, trainer_D, trainer_G, batch_size, latent_dim, data_iter)\n",
        "        # Visualize generated examples\n",
        "        display_gen_dist(net_G, axes, latent_dim, data)\n",
        "        # Show the losses\n",
        "        loss_D, loss_G = display_losses(metrics, loss_D, loss_G, axes, fig, epoch)\n",
        "    # End timer\n",
        "    tok = time.perf_counter()\n",
        "    # Display stats\n",
        "    print(f'loss_D {loss_D[-1]}, loss_G {loss_G[-1]}, {(metrics[2]*num_epochs) / (tok-tik):.1f} examples/sec')"
      ],
      "metadata": {
        "id": "yakUkxIg0zNr"
      },
      "execution_count": 14,
      "outputs": []
    },
    {
      "cell_type": "code",
      "source": [
        "lr_D, lr_G, latent_dim, num_epochs = 0.05, 0.005, 2, 30\n",
        "train(nnet_Disc, nnet_Gen, data_iter, num_epochs, lr_D, lr_G, latent_dim, data[:200].detach().numpy())"
      ],
      "metadata": {
        "colab": {
          "base_uri": "https://localhost:8080/",
          "height": 772
        },
        "id": "k2ZBsCuc02w5",
        "outputId": "d5726c38-3f49-4aa9-891e-31d34be16220"
      },
      "execution_count": 15,
      "outputs": [
        {
          "output_type": "stream",
          "name": "stdout",
          "text": [
            "loss_D 0.693101704120636, loss_G 0.6932659149169922, 909.8 examples/sec\n"
          ]
        },
        {
          "output_type": "display_data",
          "data": {
            "text/plain": [
              "<Figure size 500x900 with 2 Axes>"
            ],
            "image/png": "[encoded data removed]"
          },
          "metadata": {}
        }
      ]
    },
    {
      "cell_type": "markdown",
      "source": [
        "Conclustion:\n",
        "\n",
        "Developed a GAN from scratch using PyTorch and Matplotlib for dataset augmentation, optimizing generator's output distribution with automatic differentiation to enhance AI model performance through data enrichment."
      ],
      "metadata": {
        "id": "Usr3q-yMUH5N"
      }
    },
    {
      "cell_type": "code",
      "source": [],
      "metadata": {
        "id": "qYSOWkca04np"
      },
      "execution_count": 15,
      "outputs": []
    }
  ]
}